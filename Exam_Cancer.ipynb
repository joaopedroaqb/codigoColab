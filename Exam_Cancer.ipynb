{
  "cells": [
    {
      "cell_type": "markdown",
      "metadata": {
        "id": "lZ4hzQs6buuv"
      },
      "source": [
        "Relatorio:\n",
        "\n",
        "* Serão 30 tipos de atributos.\n",
        "  - Com 3 subdivisão:\n",
        "    - mean / media\n",
        "    - standart error / erro padrão\n",
        "    - worst, largest / pior, maior\n",
        "  \n",
        "* No total temos 569 números de instancia. \n",
        "* tendo no final dois valores existentes\n",
        "  - Benigno ou Maligno."
      ]
    },
    {
      "cell_type": "code",
      "source": [],
      "metadata": {
        "id": "7crb9Plx7ZWL"
      },
      "execution_count": null,
      "outputs": []
    },
    {
      "cell_type": "code",
      "execution_count": null,
      "metadata": {
        "id": "NaO653oQfKjr"
      },
      "outputs": [],
      "source": [
        "import torch"
      ]
    },
    {
      "cell_type": "code",
      "execution_count": null,
      "metadata": {
        "id": "YtksPpr5f6QY"
      },
      "outputs": [],
      "source": [
        "class Net(torch.nn.Module):\n",
        "  def __init__(self, input_size, hidden_size):\n",
        "    super(Net, self).__init__()\n",
        "    self.input_size = input_size\n",
        "    self.hidden_size = hidden_size\n",
        "    self.fc1 = torch.nn.Linear(self.input_size, self.hidden_size) #full connected\n",
        "    self.relu = torch.nn.ReLU() #(0, infinito)\n",
        "    self.fc2 = torch.nn.Linear(self.hidden_size, 1)\n",
        "    self.sigmoid = torch.nn.Sigmoid() #(0, 1)\n",
        "  def forward(self, x):\n",
        "    hidden = self.fc1(x)\n",
        "    relu = self.relu(hidden)\n",
        "    output = self.fc2(relu)\n",
        "    output = self.sigmoid(output)\n",
        "    return output"
      ]
    },
    {
      "cell_type": "code",
      "execution_count": null,
      "metadata": {
        "id": "AEG3VXZtgD1_"
      },
      "outputs": [],
      "source": [
        "from sklearn import datasets\n",
        "bc = datasets.load_breast_cancer()\n",
        "dados = bc.data\n",
        "classes = bc.target\n",
        "nomesClasses = bc.target_names"
      ]
    },
    {
      "cell_type": "code",
      "execution_count": null,
      "metadata": {
        "id": "fZNC7SXIjPpt",
        "colab": {
          "base_uri": "https://localhost:8080/"
        },
        "outputId": "cf088a05-e140-40ff-ddfc-d0a07ae377b0"
      },
      "outputs": [
        {
          "output_type": "execute_result",
          "data": {
            "text/plain": [
              "569"
            ]
          },
          "metadata": {},
          "execution_count": 4
        }
      ],
      "source": [
        "classes.size"
      ]
    },
    {
      "cell_type": "code",
      "execution_count": null,
      "metadata": {
        "id": "32pS018rjULt",
        "colab": {
          "base_uri": "https://localhost:8080/"
        },
        "outputId": "b4d1c4b0-5764-400a-cc9b-ae2f2b434d4d"
      },
      "outputs": [
        {
          "output_type": "execute_result",
          "data": {
            "text/plain": [
              "array([[1.799e+01, 1.038e+01, 1.228e+02, ..., 2.654e-01, 4.601e-01,\n",
              "        1.189e-01],\n",
              "       [2.057e+01, 1.777e+01, 1.329e+02, ..., 1.860e-01, 2.750e-01,\n",
              "        8.902e-02],\n",
              "       [1.969e+01, 2.125e+01, 1.300e+02, ..., 2.430e-01, 3.613e-01,\n",
              "        8.758e-02],\n",
              "       ...,\n",
              "       [1.660e+01, 2.808e+01, 1.083e+02, ..., 1.418e-01, 2.218e-01,\n",
              "        7.820e-02],\n",
              "       [2.060e+01, 2.933e+01, 1.401e+02, ..., 2.650e-01, 4.087e-01,\n",
              "        1.240e-01],\n",
              "       [7.760e+00, 2.454e+01, 4.792e+01, ..., 0.000e+00, 2.871e-01,\n",
              "        7.039e-02]])"
            ]
          },
          "metadata": {},
          "execution_count": 5
        }
      ],
      "source": [
        "dados"
      ]
    },
    {
      "cell_type": "code",
      "execution_count": null,
      "metadata": {
        "id": "FpzON1BLIWct"
      },
      "outputs": [],
      "source": [
        "for coluna in dados.T:\n",
        "  # print(coluna.max()) # Valores máximos de cada coluna\n",
        "  if coluna.max() < 1:\n",
        "    coluna = coluna / 1\n",
        "  elif coluna.max() < 10:\n",
        "    coluna /= 10\n",
        "  elif coluna.max() < 100:\n",
        "    coluna /= 100\n",
        "  elif coluna.max() < 1000:\n",
        "    coluna /= 1000\n",
        "  elif coluna.max() < 10000:\n",
        "    coluna /= 10000\n",
        "  else:\n",
        "    print('Erro')"
      ]
    },
    {
      "cell_type": "code",
      "execution_count": null,
      "metadata": {
        "id": "A-Uvv_piqJwZ",
        "colab": {
          "base_uri": "https://localhost:8080/"
        },
        "outputId": "267c8051-3f87-4596-9bdf-38e28a18a042"
      },
      "outputs": [
        {
          "output_type": "stream",
          "name": "stdout",
          "text": [
            "tensor([0., 0., 0., 0., 0., 0., 0., 0., 0., 0., 0., 0., 0., 0., 0., 0., 0., 0.,\n",
            "        0., 1., 1., 1., 0., 0., 0., 0., 0., 0., 0., 0., 0., 0., 0., 0., 0., 0.,\n",
            "        0., 1., 0., 0., 0., 0., 0., 0., 0., 0., 1., 0., 1., 1., 1., 1., 1., 0.,\n",
            "        0., 1., 0., 0., 1., 1., 1., 1., 0., 1., 0., 0., 1., 1., 1., 1., 0., 1.,\n",
            "        0., 0., 1., 0., 1., 0., 0., 1., 1., 1., 0., 0., 1., 0., 0., 0., 1., 1.,\n",
            "        1., 0., 1., 1., 0., 0., 1., 1., 1., 0., 0., 1., 1., 1., 1., 0., 1., 1.,\n",
            "        0., 1., 1., 1., 1., 1., 1., 1., 1., 0., 0., 0., 1., 0., 0., 1., 1., 1.,\n",
            "        0., 0., 1., 0., 1., 0., 0., 1., 0., 0., 1., 1., 0., 1., 1., 0., 1., 1.,\n",
            "        1., 1., 0., 1., 1., 1., 1., 1., 1., 1., 1., 1., 0., 1., 1., 1., 1., 0.,\n",
            "        0., 1., 0., 1., 1., 0., 0., 1., 1., 0., 0., 1., 1., 1., 1., 0., 1., 1.,\n",
            "        0., 0., 0., 1., 0., 1., 0., 1., 1., 1., 0., 1., 1., 0., 0., 1., 0., 0.,\n",
            "        0., 0., 1., 0., 0., 0., 1., 0., 1., 0., 1., 1., 0., 1., 0., 0., 0., 0.,\n",
            "        1., 1., 0., 0., 1., 1., 1., 0., 1., 1., 1., 1., 1., 0., 0., 1., 1., 0.,\n",
            "        1., 1., 0., 0., 1., 0., 1., 1., 1., 1., 0., 1., 1., 1., 1., 1., 0., 1.,\n",
            "        0., 0., 0., 0., 0., 0., 0., 0., 0., 0., 0., 0., 0., 0., 1., 1., 1., 1.,\n",
            "        1., 1., 0., 1., 0., 1., 1., 0., 1., 1., 0., 1., 0., 0., 1., 1., 1., 1.,\n",
            "        1., 1., 1., 1., 1., 1., 1., 1., 1., 0., 1., 1., 0., 1., 0., 1., 1., 1.,\n",
            "        1., 1., 1., 1., 1., 1., 1., 1., 1., 1., 1., 0., 1., 1., 1., 0., 1., 0.,\n",
            "        1., 1., 1., 1., 0., 0., 0., 1., 1., 1., 1., 0., 1., 0., 1., 0., 1., 1.,\n",
            "        1., 0., 1., 1., 1., 1., 1., 1., 1., 0., 0., 0., 1., 1., 1., 1., 1., 1.,\n",
            "        1., 1., 1., 1., 1., 0., 0., 1., 0., 0., 0., 1., 0., 0., 1., 1., 1., 1.,\n",
            "        1., 0., 1., 1., 1., 1., 1., 0., 1., 1., 1., 0., 1., 1., 0., 0., 1., 1.,\n",
            "        1., 1., 1., 1., 0., 1., 1., 1., 1., 1., 1., 1., 0., 1., 1., 1., 1., 1.,\n",
            "        0., 1., 1., 0., 1., 1., 1., 1., 1., 1., 1., 1., 1., 1., 1., 1., 0., 1.,\n",
            "        0., 0., 1., 0., 1., 1., 1., 1., 1., 0., 1., 1., 0., 1., 0., 1., 1., 0.,\n",
            "        1., 0., 1., 1., 1., 1., 1., 1., 1., 1., 0., 0., 1., 1., 1., 1., 1., 1.,\n",
            "        0., 1., 1., 1., 1., 1., 1., 1., 1., 1., 1., 0., 1., 1., 1., 1., 1., 1.,\n",
            "        1., 0., 1., 0., 1., 1., 0., 1., 1., 1., 1., 1., 0., 0., 1., 0., 1., 0.,\n",
            "        1., 1., 1., 1., 1., 0., 1., 1., 0., 1., 0., 1., 0., 0., 1., 1., 1., 0.,\n",
            "        1., 1., 1., 1., 1., 1., 1., 1., 1., 1., 1., 0., 1., 0., 0., 1., 1., 1.,\n",
            "        1., 1., 1., 1., 1., 1., 1., 1., 1., 1., 1., 1., 1., 1., 1., 1., 1., 1.,\n",
            "        1., 1., 1., 1., 0., 0., 0., 0., 0., 0., 1.])\n"
          ]
        }
      ],
      "source": [
        "entrada = torch.FloatTensor(dados)\n",
        "saida = torch.FloatTensor(classes)\n",
        "print(saida)"
      ]
    },
    {
      "cell_type": "code",
      "execution_count": null,
      "metadata": {
        "id": "Dkb5xrPQlpCW",
        "colab": {
          "base_uri": "https://localhost:8080/"
        },
        "outputId": "84144684-bcca-49dd-82e3-d537c796489a"
      },
      "outputs": [
        {
          "output_type": "stream",
          "name": "stdout",
          "text": [
            "tensor([[0.1799, 0.1038, 0.1228,  ..., 0.2654, 0.4601, 0.1189],\n",
            "        [0.2057, 0.1777, 0.1329,  ..., 0.1860, 0.2750, 0.0890],\n",
            "        [0.1969, 0.2125, 0.1300,  ..., 0.2430, 0.3613, 0.0876],\n",
            "        ...,\n",
            "        [0.1660, 0.2808, 0.1083,  ..., 0.1418, 0.2218, 0.0782],\n",
            "        [0.2060, 0.2933, 0.1401,  ..., 0.2650, 0.4087, 0.1240],\n",
            "        [0.0776, 0.2454, 0.0479,  ..., 0.0000, 0.2871, 0.0704]]) tensor([0., 0., 0., 0., 0., 0., 0., 0., 0., 0., 0., 0., 0., 0., 0., 0., 0., 0.,\n",
            "        0., 1., 1., 1., 0., 0., 0., 0., 0., 0., 0., 0., 0., 0., 0., 0., 0., 0.,\n",
            "        0., 1., 0., 0., 0., 0., 0., 0., 0., 0., 1., 0., 1., 1., 1., 1., 1., 0.,\n",
            "        0., 1., 0., 0., 1., 1., 1., 1., 0., 1., 0., 0., 1., 1., 1., 1., 0., 1.,\n",
            "        0., 0., 1., 0., 1., 0., 0., 1., 1., 1., 0., 0., 1., 0., 0., 0., 1., 1.,\n",
            "        1., 0., 1., 1., 0., 0., 1., 1., 1., 0., 0., 1., 1., 1., 1., 0., 1., 1.,\n",
            "        0., 1., 1., 1., 1., 1., 1., 1., 1., 0., 0., 0., 1., 0., 0., 1., 1., 1.,\n",
            "        0., 0., 1., 0., 1., 0., 0., 1., 0., 0., 1., 1., 0., 1., 1., 0., 1., 1.,\n",
            "        1., 1., 0., 1., 1., 1., 1., 1., 1., 1., 1., 1., 0., 1., 1., 1., 1., 0.,\n",
            "        0., 1., 0., 1., 1., 0., 0., 1., 1., 0., 0., 1., 1., 1., 1., 0., 1., 1.,\n",
            "        0., 0., 0., 1., 0., 1., 0., 1., 1., 1., 0., 1., 1., 0., 0., 1., 0., 0.,\n",
            "        0., 0., 1., 0., 0., 0., 1., 0., 1., 0., 1., 1., 0., 1., 0., 0., 0., 0.,\n",
            "        1., 1., 0., 0., 1., 1., 1., 0., 1., 1., 1., 1., 1., 0., 0., 1., 1., 0.,\n",
            "        1., 1., 0., 0., 1., 0., 1., 1., 1., 1., 0., 1., 1., 1., 1., 1., 0., 1.,\n",
            "        0., 0., 0., 0., 0., 0., 0., 0., 0., 0., 0., 0., 0., 0., 1., 1., 1., 1.,\n",
            "        1., 1., 0., 1., 0., 1., 1., 0., 1., 1., 0., 1., 0., 0., 1., 1., 1., 1.,\n",
            "        1., 1., 1., 1., 1., 1., 1., 1., 1., 0., 1., 1., 0., 1., 0., 1., 1., 1.,\n",
            "        1., 1., 1., 1., 1., 1., 1., 1., 1., 1., 1., 0., 1., 1., 1., 0., 1., 0.,\n",
            "        1., 1., 1., 1., 0., 0., 0., 1., 1., 1., 1., 0., 1., 0., 1., 0., 1., 1.,\n",
            "        1., 0., 1., 1., 1., 1., 1., 1., 1., 0., 0., 0., 1., 1., 1., 1., 1., 1.,\n",
            "        1., 1., 1., 1., 1., 0., 0., 1., 0., 0., 0., 1., 0., 0., 1., 1., 1., 1.,\n",
            "        1., 0., 1., 1., 1., 1., 1., 0., 1., 1., 1., 0., 1., 1., 0., 0., 1., 1.,\n",
            "        1., 1., 1., 1., 0., 1., 1., 1., 1., 1., 1., 1., 0., 1., 1., 1., 1., 1.,\n",
            "        0., 1., 1., 0., 1., 1., 1., 1., 1., 1., 1., 1., 1., 1., 1., 1., 0., 1.,\n",
            "        0., 0., 1., 0., 1., 1., 1., 1., 1., 0., 1., 1., 0., 1., 0., 1., 1., 0.,\n",
            "        1., 0., 1., 1., 1., 1., 1., 1., 1., 1., 0., 0., 1., 1., 1., 1., 1., 1.,\n",
            "        0., 1., 1., 1., 1., 1., 1., 1., 1., 1., 1., 0., 1., 1., 1., 1., 1., 1.,\n",
            "        1., 0., 1., 0., 1., 1., 0., 1., 1., 1., 1., 1., 0., 0., 1., 0., 1., 0.,\n",
            "        1., 1., 1., 1., 1., 0., 1., 1., 0., 1., 0., 1., 0., 0., 1., 1., 1., 0.,\n",
            "        1., 1., 1., 1., 1., 1., 1., 1., 1., 1., 1., 0., 1., 0., 0., 1., 1., 1.,\n",
            "        1., 1., 1., 1., 1., 1., 1., 1., 1., 1., 1., 1., 1., 1., 1., 1., 1., 1.,\n",
            "        1., 1., 1., 1., 0., 0., 0., 0., 0., 0., 1.])\n",
            "tensor([[0.1095, 0.2135, 0.0719,  ..., 0.1424, 0.2964, 0.0961],\n",
            "        [0.1453, 0.1398, 0.0939,  ..., 0.1069, 0.2606, 0.0781],\n",
            "        [0.1513, 0.2981, 0.0967,  ..., 0.0658, 0.3233, 0.0617],\n",
            "        ...,\n",
            "        [0.1394, 0.1317, 0.0903,  ..., 0.1015, 0.2160, 0.0725],\n",
            "        [0.1775, 0.2803, 0.1173,  ..., 0.1970, 0.2972, 0.0908],\n",
            "        [0.0873, 0.1684, 0.0553,  ..., 0.0000, 0.2445, 0.0887]]) tensor([0., 1., 0., 1., 0., 0., 0., 1., 1., 1., 1., 1., 0., 1., 1., 1., 1., 0.,\n",
            "        1., 1., 1., 1., 1., 0., 1., 1., 1., 0., 1., 1., 1., 0., 1., 1., 1., 1.,\n",
            "        0., 0., 1., 1., 1., 1., 0., 1., 1., 0., 1., 1., 0., 0., 0., 0., 1., 1.,\n",
            "        0., 0., 0., 0., 1., 1., 1., 0., 1., 1., 0., 1., 0., 0., 0., 0., 0., 1.,\n",
            "        1., 0., 0., 0., 0., 0., 1., 1., 1., 0., 1., 1., 1., 1., 0., 0., 1., 1.,\n",
            "        1., 1., 1., 0., 1., 1., 1., 0., 1., 1., 1., 0., 1., 0., 1., 0., 1., 1.,\n",
            "        1., 0., 0., 1., 1., 1., 0., 1., 1., 0., 1., 1., 1., 1., 1., 0., 0., 1.,\n",
            "        1., 1., 1., 0., 1., 1., 1., 0., 1., 0., 1., 1., 1., 1., 0., 1., 0., 0.,\n",
            "        0., 1., 1., 0., 1., 1., 1., 1., 1., 1., 1., 0., 1., 1., 0., 0., 0., 0.,\n",
            "        1., 1., 1., 0., 0., 0., 1., 0., 0., 1., 1., 0., 1., 1., 0., 1., 1., 1.,\n",
            "        0., 0., 1., 1., 1., 1., 0., 1., 1., 1., 1., 1., 1., 1., 0., 1., 0., 0.,\n",
            "        1., 1., 1., 0., 1., 1., 1., 1., 1., 1., 1., 1., 0., 1., 0., 1., 1., 1.,\n",
            "        0., 0., 0., 0., 0., 1., 1., 1., 1., 1., 0., 1., 1., 1., 1., 1., 1., 0.,\n",
            "        1., 0., 1., 0., 1., 0., 1., 1., 0., 1., 1., 1., 1., 0., 0., 0., 0., 1.,\n",
            "        1., 1., 0., 0., 1., 0., 1., 1., 0., 1., 1., 0., 0., 1., 0., 0., 1., 1.,\n",
            "        1., 0., 1., 0., 1., 0., 1., 1., 0., 1., 0., 0., 0., 0., 0., 0., 1., 0.,\n",
            "        1., 1., 0., 1., 0., 0., 0., 0., 0., 0., 1., 1., 0., 1., 1., 1., 1., 1.,\n",
            "        1., 1., 1., 1., 1., 1., 0., 1., 1., 1., 0., 0., 1., 0., 0., 1., 1., 1.,\n",
            "        1., 1., 1., 1., 1., 0., 0., 1., 1., 1., 1., 1., 0., 0., 1., 0., 1., 0.,\n",
            "        1., 1., 1., 1., 1., 1., 1., 0., 0., 1., 1., 0., 1., 1., 0., 1., 1., 1.,\n",
            "        1., 1., 1., 0., 0., 0., 0., 1., 1., 0., 1., 1., 1., 1., 1., 0., 1., 1.,\n",
            "        0., 1., 1., 1., 0., 1., 1., 1., 1., 0., 1., 1., 1., 1., 1., 1., 0., 0.,\n",
            "        1., 0., 1., 0., 1., 0., 1., 0., 1., 1., 1., 1., 0., 1., 1., 1., 1., 1.,\n",
            "        1., 0., 0., 1., 1., 1., 1., 1., 0., 0., 1., 1., 1., 1., 1., 1., 1., 1.,\n",
            "        1., 1., 1., 0., 1., 0., 0., 0., 1., 1., 1., 0., 1., 1., 0., 1., 1., 0.,\n",
            "        1., 1., 0., 1., 0., 1., 1., 0., 1., 1., 1., 1., 0., 1., 1., 1., 0., 1.,\n",
            "        1., 1., 0., 1., 1., 1., 0., 0., 1., 0., 1., 1., 1., 1., 1., 1., 1., 1.,\n",
            "        1., 0., 0., 0., 1., 0., 0., 1., 0., 0., 0., 1., 1., 0., 1., 0., 1., 0.,\n",
            "        1., 0., 1., 0., 0., 0., 1., 0., 1., 0., 0., 1., 1., 1., 1., 0., 1., 0.,\n",
            "        0., 1., 0., 1., 0., 0., 0., 1., 1., 1., 1., 0., 1., 0., 0., 1., 1., 1.,\n",
            "        1., 1., 0., 1., 1., 1., 0., 0., 1., 1., 0., 0., 0., 1., 0., 0., 1., 0.,\n",
            "        1., 0., 1., 0., 0., 1., 1., 0., 1., 0., 1.])\n"
          ]
        }
      ],
      "source": [
        "from sklearn.utils import shuffle\n",
        "print(entrada, saida)\n",
        "entrada, saida = shuffle(entrada, saida)\n",
        "print(entrada, saida)"
      ]
    },
    {
      "cell_type": "code",
      "execution_count": null,
      "metadata": {
        "id": "yBPqiQdpl5ei",
        "colab": {
          "base_uri": "https://localhost:8080/"
        },
        "outputId": "4cc423cd-722a-41f0-d449-44f364d46999"
      },
      "outputs": [
        {
          "output_type": "stream",
          "name": "stdout",
          "text": [
            "tensor([[0.1242, 0.1504, 0.0786,  ..., 0.0405, 0.2901, 0.0678],\n",
            "        [0.1940, 0.2350, 0.1291,  ..., 0.1564, 0.2920, 0.0761],\n",
            "        [0.2722, 0.2187, 0.1821,  ..., 0.2688, 0.2856, 0.0808],\n",
            "        ...,\n",
            "        [0.1394, 0.1317, 0.0903,  ..., 0.1015, 0.2160, 0.0725],\n",
            "        [0.1775, 0.2803, 0.1173,  ..., 0.1970, 0.2972, 0.0908],\n",
            "        [0.0873, 0.1684, 0.0553,  ..., 0.0000, 0.2445, 0.0887]])\n",
            "tensor([1., 0., 0., 0., 1., 1., 1., 1., 0., 1., 0., 0., 1., 1., 1., 1., 1., 0.,\n",
            "        1., 1., 1., 0., 0., 1., 1., 0., 0., 0., 1., 0., 0., 1., 0., 1., 0., 1.,\n",
            "        0., 0., 1., 1., 0., 1., 0., 1.])\n"
          ]
        }
      ],
      "source": [
        "entrada_treinamento = entrada[0:525, :]\n",
        "saida_treinamento = saida[0:525]\n",
        "entrada_testes = entrada[525:569, :]\n",
        "saida_testes = saida[525:569]\n",
        "print(entrada_testes)\n",
        "print(saida_testes)"
      ]
    },
    {
      "cell_type": "code",
      "execution_count": null,
      "metadata": {
        "id": "y14gs1jimk-9",
        "colab": {
          "base_uri": "https://localhost:8080/"
        },
        "outputId": "ef34cabc-8925-47c0-9a57-2929e0bbc783"
      },
      "outputs": [
        {
          "output_type": "stream",
          "name": "stdout",
          "text": [
            "torch.Size([525, 30])\n",
            "Net(\n",
            "  (fc1): Linear(in_features=30, out_features=25, bias=True)\n",
            "  (relu): ReLU()\n",
            "  (fc2): Linear(in_features=25, out_features=1, bias=True)\n",
            "  (sigmoid): Sigmoid()\n",
            ")\n"
          ]
        }
      ],
      "source": [
        "# Montar o modelo para o treinamento\n",
        "print(entrada_treinamento.size())\n",
        "input_size = entrada_treinamento.size()[1]\n",
        "hidden_size = 25\n",
        "modelo = Net(input_size, hidden_size)\n",
        "print(modelo)\n",
        "\n",
        "# Configurações do modelo\n",
        "criterion = torch.nn.BCELoss() # Binary Cross Entropy\n",
        "criterion = torch.nn.MSELoss() # Mean Square Error\n",
        "optimizer = torch.optim.SGD(modelo.parameters(), lr = 0.8, momentum = 0.3)"
      ]
    },
    {
      "cell_type": "code",
      "execution_count": null,
      "metadata": {
        "colab": {
          "base_uri": "https://localhost:8080/"
        },
        "id": "3pJb_Z-Sm6r4",
        "outputId": "e54373d0-037f-4334-ac66-89db262c3f04"
      },
      "outputs": [
        {
          "output_type": "stream",
          "name": "stdout",
          "text": [
            "Epoch 0: train loss: 0.25235652923583984\n",
            "Epoch 10000: train loss: 0.012504125013947487\n",
            "Epoch 20000: train loss: 0.01085455622524023\n",
            "Epoch 30000: train loss: 0.009818676859140396\n",
            "Epoch 40000: train loss: 0.009008088149130344\n",
            "Epoch 50000: train loss: 0.008330550976097584\n",
            "Epoch 60000: train loss: 0.007768820971250534\n",
            "Epoch 70000: train loss: 0.007316704839468002\n",
            "Epoch 80000: train loss: 0.006966878660023212\n",
            "Epoch 90000: train loss: 0.00670286500826478\n",
            "Epoch 100000: train loss: 0.00650563882663846\n",
            "Epoch 110000: train loss: 0.006358070764690638\n",
            "Epoch 120000: train loss: 0.00624697282910347\n",
            "Epoch 130000: train loss: 0.006161903031170368\n",
            "Epoch 140000: train loss: 0.006096027325838804\n",
            "Epoch 150000: train loss: 0.0060442169196903706\n",
            "Epoch 160000: train loss: 0.0060026939027011395\n",
            "Epoch 170000: train loss: 0.005969048477709293\n",
            "Epoch 180000: train loss: 0.005941497161984444\n",
            "Epoch 190000: train loss: 0.00591841759160161\n",
            "Epoch 200000: train loss: 0.005899039562791586\n",
            "Epoch 210000: train loss: 0.005882567726075649\n",
            "Epoch 220000: train loss: 0.00586846936494112\n",
            "Epoch 230000: train loss: 0.005856284871697426\n",
            "Epoch 240000: train loss: 0.005845594219863415\n",
            "Epoch 250000: train loss: 0.005836285185068846\n",
            "Epoch 260000: train loss: 0.005828049965202808\n",
            "Epoch 270000: train loss: 0.005820722319185734\n",
            "Epoch 280000: train loss: 0.005814211908727884\n",
            "Epoch 290000: train loss: 0.005808355752378702\n",
            "Epoch 300000: train loss: 0.005803088657557964\n",
            "Epoch 310000: train loss: 0.005798323545604944\n",
            "Epoch 320000: train loss: 0.005793990101665258\n",
            "Epoch 330000: train loss: 0.005790043622255325\n",
            "Epoch 340000: train loss: 0.005786438938230276\n",
            "Epoch 350000: train loss: 0.005783129949122667\n",
            "Epoch 360000: train loss: 0.005780085455626249\n",
            "Epoch 370000: train loss: 0.005777266807854176\n",
            "Epoch 380000: train loss: 0.00577465770766139\n",
            "Epoch 390000: train loss: 0.005772274453192949\n",
            "Epoch 400000: train loss: 0.005770029500126839\n",
            "Epoch 410000: train loss: 0.005767954979091883\n",
            "Epoch 420000: train loss: 0.005766006652265787\n",
            "Epoch 430000: train loss: 0.005764173809438944\n",
            "Epoch 440000: train loss: 0.005762447603046894\n",
            "Epoch 450000: train loss: 0.005760814528912306\n",
            "Epoch 460000: train loss: 0.005759296473115683\n",
            "Epoch 470000: train loss: 0.005757872946560383\n",
            "Epoch 480000: train loss: 0.005756537429988384\n",
            "Epoch 490000: train loss: 0.005755282007157803\n",
            "Epoch 500000: train loss: 0.005754080135375261\n",
            "Epoch 510000: train loss: 0.005752942059189081\n",
            "Epoch 520000: train loss: 0.005751872900873423\n",
            "Epoch 530000: train loss: 0.00575086148455739\n",
            "Epoch 540000: train loss: 0.005749894306063652\n",
            "Epoch 550000: train loss: 0.005748964846134186\n",
            "Epoch 560000: train loss: 0.0057480731047689915\n",
            "Epoch 570000: train loss: 0.005747219081968069\n",
            "Epoch 580000: train loss: 0.005746401380747557\n",
            "Epoch 590000: train loss: 0.0057456172071397305\n",
            "Epoch 600000: train loss: 0.00574486143887043\n",
            "Epoch 610000: train loss: 0.005744139198213816\n",
            "Epoch 620000: train loss: 0.005743457470089197\n",
            "Epoch 630000: train loss: 0.005742817651480436\n",
            "Epoch 640000: train loss: 0.005742204375565052\n",
            "Epoch 650000: train loss: 0.0057416134513914585\n",
            "Epoch 660000: train loss: 0.0057410430163145065\n",
            "Epoch 670000: train loss: 0.005740493070334196\n",
            "Epoch 680000: train loss: 0.005739962216466665\n",
            "Epoch 690000: train loss: 0.0057394434697926044\n",
            "Epoch 700000: train loss: 0.005738942883908749\n",
            "Epoch 710000: train loss: 0.005738457664847374\n",
            "Epoch 720000: train loss: 0.005737988743931055\n",
            "Epoch 730000: train loss: 0.005737540777772665\n",
            "Epoch 740000: train loss: 0.0057371086440980434\n",
            "Epoch 750000: train loss: 0.00573669234290719\n",
            "Epoch 760000: train loss: 0.005736286751925945\n",
            "Epoch 770000: train loss: 0.005735894665122032\n",
            "Epoch 780000: train loss: 0.005735518876463175\n",
            "Epoch 790000: train loss: 0.005735164042562246\n",
            "Epoch 800000: train loss: 0.005734823178499937\n",
            "Epoch 810000: train loss: 0.0057344939559698105\n",
            "Epoch 820000: train loss: 0.005734172184020281\n",
            "Epoch 830000: train loss: 0.0057338569313287735\n",
            "Epoch 840000: train loss: 0.00573354959487915\n",
            "Epoch 850000: train loss: 0.005733249709010124\n",
            "Epoch 860000: train loss: 0.005732961464673281\n",
            "Epoch 870000: train loss: 0.005732679273933172\n",
            "Epoch 880000: train loss: 0.0057324073277413845\n",
            "Epoch 890000: train loss: 0.005732144694775343\n",
            "Epoch 900000: train loss: 0.0057318857870996\n",
            "Epoch 910000: train loss: 0.005731632467359304\n",
            "Epoch 920000: train loss: 0.005731383804231882\n",
            "Epoch 930000: train loss: 0.005731142126023769\n",
            "Epoch 940000: train loss: 0.005730909761041403\n",
            "Epoch 950000: train loss: 0.005730684846639633\n",
            "Epoch 960000: train loss: 0.005730469711124897\n",
            "Epoch 970000: train loss: 0.005730259232223034\n",
            "Epoch 980000: train loss: 0.005730052012950182\n",
            "Epoch 990000: train loss: 0.005729848984628916\n",
            "Epoch 1000000: train loss: 0.005729637574404478\n",
            "Epoch 1010000: train loss: 0.005729429889470339\n",
            "Epoch 1020000: train loss: 0.005729224998503923\n",
            "Epoch 1030000: train loss: 0.005729024764150381\n",
            "Epoch 1040000: train loss: 0.005728826858103275\n",
            "Epoch 1050000: train loss: 0.005728632677346468\n",
            "Epoch 1060000: train loss: 0.0057284412905573845\n",
            "Epoch 1070000: train loss: 0.0057282522320747375\n",
            "Epoch 1080000: train loss: 0.005728066898882389\n",
            "Epoch 1090000: train loss: 0.00572788342833519\n",
            "Epoch 1100000: train loss: 0.005727703683078289\n",
            "Epoch 1110000: train loss: 0.00572752533480525\n",
            "Epoch 1120000: train loss: 0.005727351177483797\n",
            "Epoch 1130000: train loss: 0.005727178417146206\n",
            "Epoch 1140000: train loss: 0.005727009382098913\n",
            "Epoch 1150000: train loss: 0.005726843141019344\n",
            "Epoch 1160000: train loss: 0.005726679693907499\n",
            "Epoch 1170000: train loss: 0.0057265181094408035\n",
            "Epoch 1180000: train loss: 0.005726360250264406\n",
            "Epoch 1190000: train loss: 0.005726205185055733\n",
            "Epoch 1200000: train loss: 0.005726051516830921\n",
            "Epoch 1210000: train loss: 0.005725899711251259\n",
            "Epoch 1220000: train loss: 0.005725750233978033\n",
            "Epoch 1230000: train loss: 0.0057256026193499565\n",
            "Epoch 1240000: train loss: 0.005725459661334753\n",
            "Epoch 1250000: train loss: 0.005725315771996975\n",
            "Epoch 1260000: train loss: 0.00572517653927207\n",
            "Epoch 1270000: train loss: 0.005725042428821325\n",
            "Epoch 1280000: train loss: 0.00572491530328989\n",
            "Epoch 1290000: train loss: 0.005724797956645489\n",
            "Epoch 1300000: train loss: 0.005724689457565546\n",
            "Epoch 1310000: train loss: 0.00572458328679204\n",
            "Epoch 1320000: train loss: 0.005724478047341108\n",
            "Epoch 1330000: train loss: 0.005724376067519188\n",
            "Epoch 1340000: train loss: 0.005724275019019842\n",
            "Epoch 1350000: train loss: 0.005724175833165646\n",
            "Epoch 1360000: train loss: 0.005724078509956598\n",
            "Epoch 1370000: train loss: 0.005723981186747551\n",
            "Epoch 1380000: train loss: 0.005723888054490089\n",
            "Epoch 1390000: train loss: 0.005723795387893915\n",
            "Epoch 1400000: train loss: 0.0057237036526203156\n",
            "Epoch 1410000: train loss: 0.005723613779991865\n",
            "Epoch 1420000: train loss: 0.005723525304347277\n",
            "Epoch 1430000: train loss: 0.005723439157009125\n",
            "Epoch 1440000: train loss: 0.005723353009670973\n",
            "Epoch 1450000: train loss: 0.005723268259316683\n",
            "Epoch 1460000: train loss: 0.005723185371607542\n",
            "Epoch 1470000: train loss: 0.005723102949559689\n",
            "Epoch 1480000: train loss: 0.005723023787140846\n",
            "Epoch 1490000: train loss: 0.005722947884351015\n"
          ]
        }
      ],
      "source": [
        "epochs = 1500000 # Quantidade de épocas de treinamento\n",
        "\n",
        "errors = [] # Criando um array vazio para guardar os erros de cada epoca\n",
        "\n",
        "for epoch in range(epochs):\n",
        "  optimizer.zero_grad()\n",
        "  # Forward pass\n",
        "  y_pred = modelo(entrada_treinamento)\n",
        "  #Compute Loss\n",
        "  loss = criterion(y_pred.squeeze(), saida_treinamento)\n",
        "  errors.append(loss.item())\n",
        "  if epoch % 10000 == 0:\n",
        "    print('Epoch {}: train loss: {}'.format(epoch, loss.item()))\n",
        "  #Backward pass\n",
        "  loss.backward()\n",
        "  optimizer.step()"
      ]
    },
    {
      "cell_type": "code",
      "execution_count": null,
      "metadata": {
        "id": "yDaQ7p7wnXTk"
      },
      "outputs": [],
      "source": [
        "y_pred = modelo(entrada_testes)\n"
      ]
    },
    {
      "cell_type": "code",
      "execution_count": null,
      "metadata": {
        "colab": {
          "base_uri": "https://localhost:8080/"
        },
        "id": "Y777BTvvngmU",
        "outputId": "98a92956-90c1-488e-cb20-61fd12585806"
      },
      "outputs": [
        {
          "output_type": "display_data",
          "data": {
            "text/plain": [
              "<Figure size 864x360 with 2 Axes>"
            ],
            "image/png": "[encoded data removed]"
          },
          "metadata": {
            "needs_background": "light"
          }
        }
      ],
      "source": [
        "import matplotlib.pyplot as plt\n",
        "import numpy as np\n",
        "def plotcharts(errors):\n",
        "    errors = np.array(errors)\n",
        "    plt.figure(figsize=(12, 5))\n",
        "    graf02 = plt.subplot(1, 2, 1) # nrows, ncols, index\n",
        "    graf02.set_title('Errors')\n",
        "    plt.plot(errors, '-')\n",
        "    plt.xlabel('Epochs')\n",
        "    graf03 = plt.subplot(1, 2, 2)\n",
        "    graf03.set_title('Tests')\n",
        "    a = plt.plot(saida_testes.numpy(), 'yo', label='Real')\n",
        "    plt.setp(a, markersize=10)\n",
        "    a = plt.plot(y_pred.detach().numpy(), 'b+', label='Predicted')\n",
        "    plt.setp(a, markersize=10)\n",
        "    plt.legend(loc=7)\n",
        "    plt.show()\n",
        "plotcharts(errors)"
      ]
    },
    {
      "cell_type": "code",
      "execution_count": null,
      "metadata": {
        "colab": {
          "base_uri": "https://localhost:8080/"
        },
        "id": "pjunMpdjoRRl",
        "outputId": "d1540a70-1572-471f-8d4e-2cb061537d00"
      },
      "outputs": [
        {
          "output_type": "execute_result",
          "data": {
            "text/plain": [
              "569"
            ]
          },
          "metadata": {},
          "execution_count": 14
        }
      ],
      "source": [
        "classes.size"
      ]
    }
  ],
  "metadata": {
    "colab": {
      "provenance": []
    },
    "kernelspec": {
      "display_name": "Python 3",
      "name": "python3"
    },
    "language_info": {
      "name": "python"
    }
  },
  "nbformat": 4,
  "nbformat_minor": 0
}